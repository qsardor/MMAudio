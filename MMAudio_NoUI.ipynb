{
  "nbformat": 4,
  "nbformat_minor": 0,
  "metadata": {
    "colab": {
      "provenance": [],
      "gpuType": "T4",
      "include_colab_link": true
    },
    "kernelspec": {
      "name": "python3",
      "display_name": "Python 3"
    },
    "language_info": {
      "name": "python"
    },
    "accelerator": "GPU"
  },
  "cells": [
    {
      "cell_type": "markdown",
      "metadata": {
        "id": "view-in-github",
        "colab_type": "text"
      },
      "source": [
        "<a href=\"https://colab.research.google.com/github/qsardor/MMAudio/blob/main/MMAudio_NoUI.ipynb\" target=\"_parent\"><img src=\"https://colab.research.google.com/assets/colab-badge.svg\" alt=\"Open In Colab\"/></a>"
      ]
    },
    {
      "cell_type": "markdown",
      "source": [
        "## [Taming Multimodal Joint Training for High-Quality Video-to-Audio Synthesis](https://hkchengrex.github.io/MMAudio)\n",
        "\n",
        "<a href=\"\">Paper (Soon)</a> | <a href=\"https://hkchengrex.github.io/MMAudio\">Webpage</a> | <a href=\"https://huggingface.co/hkchengrex/MMAudio/tree/main\">Models</a> | <a href=\"https://huggingface.co/spaces/hkchengrex/MMAudio\">Demo</a>\n",
        "\n",
        "[Ho Kei Cheng](https://hkchengrex.github.io/), [Masato Ishii](https://scholar.google.co.jp/citations?user=RRIO1CcAAAAJ), [Akio Hayakawa](https://scholar.google.com/citations?user=sXAjHFIAAAAJ), [Takashi Shibuya](https://scholar.google.com/citations?user=XCRO260AAAAJ), [Alexander Schwing](https://www.alexander-schwing.de/), [Yuki Mitsufuji](https://www.yukimitsufuji.com/)\n",
        "\n",
        "University of Illinois Urbana-Champaign, Sony AI, and Sony Group Corporation"
      ],
      "metadata": {
        "id": "o_cHOIk6fkrC"
      }
    },
    {
      "cell_type": "markdown",
      "source": [
        "MMAudio generates synchronized audio given video and/or text inputs. Our key innovation is multimodal joint training which allows training on a wide range of audio-visual and audio-text datasets. Moreover, a synchronization module aligns the generated audio with the video frames."
      ],
      "metadata": {
        "id": "MWrQTB4qf7kb"
      }
    },
    {
      "cell_type": "markdown",
      "source": [
        "## Make sure we are using GPU\n",
        "\n",
        "If not, Runtime -> Change runtime type -> T4\n",
        "\n"
      ],
      "metadata": {
        "id": "kmoaRe0ff_Jn"
      }
    },
    {
      "cell_type": "code",
      "execution_count": null,
      "metadata": {
        "id": "f3P_MH7IWMlX"
      },
      "outputs": [],
      "source": [
        "!nvidia-smi\n",
        "\n",
        "import torch\n",
        "\n",
        "if torch.cuda.is_available():\n",
        "  print('Using GPU')\n",
        "  device = 'cuda'\n",
        "else:\n",
        "  print('CUDA not available. Please connect to a GPU instance if possible.')\n",
        "  device = 'cpu'"
      ]
    },
    {
      "cell_type": "markdown",
      "source": [
        "## Install dependencies"
      ],
      "metadata": {
        "id": "nq1Ytxi_gJnh"
      }
    },
    {
      "cell_type": "code",
      "source": [
        "!pip install torch torchvision torchaudio\n",
        "!git clone https://github.com/hkchengrex/MMAudio.git\n",
        "%cd /content/MMAudio\n",
        "!pip install -e ."
      ],
      "metadata": {
        "id": "tTiNYTWSgJKB"
      },
      "execution_count": null,
      "outputs": []
    },
    {
      "cell_type": "markdown",
      "source": [
        "## Load some data"
      ],
      "metadata": {
        "id": "NmJDTxMGhQdi"
      }
    },
    {
      "cell_type": "code",
      "source": [
        "%cd /content/MMAudio\n",
        "!curl https://i.imgur.com/8xHJTzI.mp4 -o video.mp4\n",
        "\n",
        "from IPython.display import HTML\n",
        "from base64 import b64encode\n",
        "data_url = \"data:video/mp4;base64,\" + b64encode(open('video.mp4', 'rb').read()).decode()\n",
        "HTML(\"\"\"\n",
        "<video width=400 controls>\n",
        "      <source src=\"%s\" type=\"video/mp4\">\n",
        "</video>\n",
        "\"\"\" % data_url)"
      ],
      "metadata": {
        "id": "3SYoUcUghlal"
      },
      "execution_count": null,
      "outputs": []
    },
    {
      "cell_type": "markdown",
      "source": [
        "## Run the model (models will be downloaded automatically)"
      ],
      "metadata": {
        "id": "v_BM2f7niHm1"
      }
    },
    {
      "cell_type": "code",
      "source": [
        "!python demo.py --duration=10 --video=video.mp4 --prompt \"waves and seagulls\"\n",
        "\n",
        "\n",
        "from IPython.display import HTML\n",
        "from base64 import b64encode\n",
        "data_url = \"data:video/mp4;base64,\" + b64encode(open('./output/video.mp4', 'rb').read()).decode()\n",
        "HTML(\"\"\"\n",
        "<video width=400 controls>\n",
        "      <source src=\"%s\" type=\"video/mp4\">\n",
        "</video>\n",
        "\"\"\" % data_url)"
      ],
      "metadata": {
        "id": "xnhmnCkJiiAU"
      },
      "execution_count": null,
      "outputs": []
    }
  ]
}