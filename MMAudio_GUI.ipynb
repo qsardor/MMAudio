{
  "nbformat": 4,
  "nbformat_minor": 0,
  "metadata": {
    "colab": {
      "provenance": [],
      "gpuType": "T4",
      "include_colab_link": true
    },
    "kernelspec": {
      "name": "python3",
      "display_name": "Python 3"
    },
    "language_info": {
      "name": "python"
    },
    "accelerator": "GPU"
  },
  "cells": [
    {
      "cell_type": "markdown",
      "metadata": {
        "id": "view-in-github",
        "colab_type": "text"
      },
      "source": [
        "<a href=\"https://colab.research.google.com/github/qsardor/MMAudio/blob/main/MMAudio_GUI.ipynb\" target=\"_parent\"><img src=\"https://colab.research.google.com/assets/colab-badge.svg\" alt=\"Open In Colab\"/></a>"
      ]
    },
    {
      "cell_type": "markdown",
      "source": [
        "## [Taming Multimodal Joint Training for High-Quality Video-to-Audio Synthesis](https://hkchengrex.github.io/MMAudio)\n",
        "\n",
        "<a href=\"\">Paper (Soon)</a> | <a href=\"https://hkchengrex.github.io/MMAudio\">Webpage</a> | <a href=\"https://huggingface.co/hkchengrex/MMAudio/tree/main\">Models</a> | <a href=\"https://huggingface.co/spaces/hkchengrex/MMAudio\">Demo</a>\n",
        "\n",
        "[Ho Kei Cheng](https://hkchengrex.github.io/), [Masato Ishii](https://scholar.google.co.jp/citations?user=RRIO1CcAAAAJ), [Akio Hayakawa](https://scholar.google.com/citations?user=sXAjHFIAAAAJ), [Takashi Shibuya](https://scholar.google.com/citations?user=XCRO260AAAAJ), [Alexander Schwing](https://www.alexander-schwing.de/), [Yuki Mitsufuji](https://www.yukimitsufuji.com/)\n",
        "\n",
        "University of Illinois Urbana-Champaign, Sony AI, and Sony Group Corporation"
      ],
      "metadata": {
        "id": "o_cHOIk6fkrC"
      }
    },
    {
      "cell_type": "markdown",
      "source": [
        "MMAudio generates synchronized audio given video and/or text inputs. Our key innovation is multimodal joint training which allows training on a wide range of audio-visual and audio-text datasets. Moreover, a synchronization module aligns the generated audio with the video frames."
      ],
      "metadata": {
        "id": "MWrQTB4qf7kb"
      }
    },
    {
      "cell_type": "markdown",
      "source": [
        "## Make sure we are using GPU\n",
        "\n",
        "If not, Runtime -> Change runtime type -> T4\n",
        "\n"
      ],
      "metadata": {
        "id": "kmoaRe0ff_Jn"
      }
    },
    {
      "cell_type": "code",
      "execution_count": null,
      "metadata": {
        "id": "f3P_MH7IWMlX"
      },
      "outputs": [],
      "source": [
        "!nvidia-smi\n",
        "\n",
        "import torch\n",
        "\n",
        "if torch.cuda.is_available():\n",
        "  print('Using GPU')\n",
        "  device = 'cuda'\n",
        "else:\n",
        "  print('CUDA not available. Please connect to a GPU instance if possible.')\n",
        "  device = 'cpu'"
      ]
    },
    {
      "cell_type": "markdown",
      "source": [
        "## Install dependencies"
      ],
      "metadata": {
        "id": "nq1Ytxi_gJnh"
      }
    },
    {
      "cell_type": "code",
      "source": [
        "!git clone https://huggingface.co/spaces/hkchengrex/MMAudio\n",
        "%cd MMAudio\n",
        "!pip install spaces\n",
        "!pip install -r requirements.txt"
      ],
      "metadata": {
        "id": "_AfRS5XcKzGA"
      },
      "execution_count": null,
      "outputs": []
    },
    {
      "cell_type": "markdown",
      "source": [
        "After install requirements, the session will restart."
      ],
      "metadata": {
        "id": "LKfUDSK0LJXm"
      }
    },
    {
      "cell_type": "markdown",
      "source": [
        "It's modified `app.py` for you don't require manually `share=False` into `share=True` for get public link. So you don't need manually edit. :)"
      ],
      "metadata": {
        "id": "X0intP8eP72h"
      }
    },
    {
      "cell_type": "code",
      "source": [
        "%cd MMAudio\n",
        "!wget -O app.py https://raw.githubusercontent.com/qsardor/MMAudio/refs/heads/main/app.py"
      ],
      "metadata": {
        "id": "jJa3i4WJMNjA"
      },
      "execution_count": null,
      "outputs": []
    },
    {
      "cell_type": "markdown",
      "source": [
        "Launch the APP and enjoy :)"
      ],
      "metadata": {
        "id": "5b_9hmSiP0my"
      }
    },
    {
      "cell_type": "code",
      "source": [
        "!python app.py"
      ],
      "metadata": {
        "id": "fw8ResagMPtf"
      },
      "execution_count": null,
      "outputs": []
    }
  ]
}